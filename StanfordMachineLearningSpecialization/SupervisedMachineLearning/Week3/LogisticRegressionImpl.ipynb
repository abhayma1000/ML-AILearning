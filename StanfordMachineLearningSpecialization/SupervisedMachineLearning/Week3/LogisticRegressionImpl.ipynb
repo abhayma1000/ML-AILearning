{
 "cells": [
  {
   "cell_type": "markdown",
   "metadata": {},
   "source": [
    "# Logistic Regression Implementation\n",
    "\n",
    "This is an implementation of logistic regression where can train and predict\n"
   ]
  },
  {
   "cell_type": "markdown",
   "metadata": {},
   "source": [
    "### Importing the packages"
   ]
  },
  {
   "cell_type": "code",
   "execution_count": 29,
   "metadata": {},
   "outputs": [],
   "source": [
    "import numpy as np\n",
    "import matplotlib.pyplot as plt\n"
   ]
  },
  {
   "cell_type": "markdown",
   "metadata": {},
   "source": [
    "### Creating the (totally legit) data\n",
    "\n",
    "* Going to create random numbers for two input parameters\n",
    "* Have the high of the first and low of the second --> 0\n",
    "* Have the low of the first and high of the second --> 1\n",
    "* Sort a randomly generated list to achieve this"
   ]
  },
  {
   "cell_type": "code",
   "execution_count": 30,
   "metadata": {},
   "outputs": [],
   "source": [
    "m = 100\n",
    "half_m = int(m / 2)\n",
    "# m = Number of training examples\n",
    "\n",
    "x_1 = np.sort(np.random.randint(10, size=m)).reshape((m, 1))\n",
    "\n",
    "x_2 = np.sort(np.random.rand(1, m) * 100 - 50,).reshape((m,))[::-1].reshape((m, 1))\n",
    "\n",
    "y = np.vstack((np.full((half_m, 1), 0), np.full((half_m, 1), 1)))\n",
    "\n",
    "X = np.hstack((x_1, x_2))"
   ]
  },
  {
   "cell_type": "markdown",
   "metadata": {},
   "source": [
    "### Plot\n",
    "\n",
    "Plotting the training data so it is easy to see what's going on"
   ]
  },
  {
   "cell_type": "code",
   "execution_count": 28,
   "metadata": {},
   "outputs": [
    {
     "data": {
      "image/png": "[encoded data removed]",
      "text/plain": [
       "<Figure size 640x480 with 1 Axes>"
      ]
     },
     "metadata": {},
     "output_type": "display_data"
    }
   ],
   "source": [
    "x_split = np.vsplit(X, 2)\n",
    "\n",
    "y_split = np.vsplit(y, 2)\n",
    "\n",
    "fig = plt.figure()\n",
    "ax1 = fig.add_subplot(111)\n",
    "\n",
    "ax1.scatter(x_split[0][:,0], x_split[0][:,1], s=10, c='b', marker=\"s\", label='first')\n",
    "ax1.scatter(x_split[1][:,0], x_split[1][:,1], s=10, c='r', marker=\"o\", label='second')\n",
    "\n",
    "plt.show()\n",
    "\n"
   ]
  },
  {
   "cell_type": "markdown",
   "metadata": {},
   "source": [
    "### Training\n",
    "\n",
    "Implementation of the cost function, gradient descent, and training of the parameters"
   ]
  },
  {
   "cell_type": "markdown",
   "metadata": {},
   "source": [
    "### Evaluation\n",
    "\n",
    "Prediction of data and viewing of results from training"
   ]
  },
  {
   "cell_type": "code",
   "execution_count": null,
   "metadata": {},
   "outputs": [],
   "source": []
  }
 ],
 "metadata": {
  "kernelspec": {
   "display_name": "Python 3.11.4 64-bit",
   "language": "python",
   "name": "python3"
  },
  "language_info": {
   "codemirror_mode": {
    "name": "ipython",
    "version": 3
   },
   "file_extension": ".py",
   "mimetype": "text/x-python",
   "name": "python",
   "nbconvert_exporter": "python",
   "pygments_lexer": "ipython3",
   "version": "3.11.4"
  },
  "orig_nbformat": 4,
  "vscode": {
   "interpreter": {
    "hash": "aee8b7b246df8f9039afb4144a1f6fd8d2ca17a180786b69acc140d282b71a49"
   }
  }
 },
 "nbformat": 4,
 "nbformat_minor": 2
}
